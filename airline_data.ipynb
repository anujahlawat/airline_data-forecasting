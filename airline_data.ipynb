{
 "cells": [
  {
   "cell_type": "code",
   "execution_count": 309,
   "id": "bd7c64d8",
   "metadata": {},
   "outputs": [],
   "source": [
    "import warnings\n",
    "warnings.filterwarnings(\"ignore\")"
   ]
  },
  {
   "cell_type": "code",
   "execution_count": 310,
   "id": "677727b5",
   "metadata": {},
   "outputs": [],
   "source": [
    "import pandas as pd\n",
    "import numpy as np\n",
    "import matplotlib.pyplot as plt\n",
    "import seaborn as sns\n",
    "\n",
    "from numpy import sqrt\n",
    "\n",
    "from pandas.plotting import lag_plot\n",
    "\n",
    "from statsmodels.tsa.seasonal import seasonal_decompose\n",
    "\n",
    "from statsmodels.tsa.holtwinters import SimpleExpSmoothing        # single Exponential Smoothing (SES)\n",
    "from statsmodels.tsa.holtwinters import Holt                      # double Exponential Smoothing (holt method)\n",
    "from statsmodels.tsa.holtwinters import ExponentialSmoothing        # triple Exponential Smoothing (holt winter method)"
   ]
  },
  {
   "cell_type": "markdown",
   "id": "57513dc8",
   "metadata": {},
   "source": [
    "### 1. importing data"
   ]
  },
  {
   "cell_type": "code",
   "execution_count": 311,
   "id": "bb822d60",
   "metadata": {},
   "outputs": [
    {
     "data": {
      "text/html": [
       "<div>\n",
       "<style scoped>\n",
       "    .dataframe tbody tr th:only-of-type {\n",
       "        vertical-align: middle;\n",
       "    }\n",
       "\n",
       "    .dataframe tbody tr th {\n",
       "        vertical-align: top;\n",
       "    }\n",
       "\n",
       "    .dataframe thead th {\n",
       "        text-align: right;\n",
       "    }\n",
       "</style>\n",
       "<table border=\"1\" class=\"dataframe\">\n",
       "  <thead>\n",
       "    <tr style=\"text-align: right;\">\n",
       "      <th></th>\n",
       "      <th>Month</th>\n",
       "      <th>Passengers</th>\n",
       "    </tr>\n",
       "  </thead>\n",
       "  <tbody>\n",
       "    <tr>\n",
       "      <th>0</th>\n",
       "      <td>Jan-95</td>\n",
       "      <td>112</td>\n",
       "    </tr>\n",
       "    <tr>\n",
       "      <th>1</th>\n",
       "      <td>Feb-95</td>\n",
       "      <td>118</td>\n",
       "    </tr>\n",
       "    <tr>\n",
       "      <th>2</th>\n",
       "      <td>Mar-95</td>\n",
       "      <td>132</td>\n",
       "    </tr>\n",
       "    <tr>\n",
       "      <th>3</th>\n",
       "      <td>Apr-95</td>\n",
       "      <td>129</td>\n",
       "    </tr>\n",
       "    <tr>\n",
       "      <th>4</th>\n",
       "      <td>May-95</td>\n",
       "      <td>121</td>\n",
       "    </tr>\n",
       "  </tbody>\n",
       "</table>\n",
       "</div>"
      ],
      "text/plain": [
       "    Month  Passengers\n",
       "0  Jan-95         112\n",
       "1  Feb-95         118\n",
       "2  Mar-95         132\n",
       "3  Apr-95         129\n",
       "4  May-95         121"
      ]
     },
     "execution_count": 311,
     "metadata": {},
     "output_type": "execute_result"
    }
   ],
   "source": [
    "data = pd.read_csv(\"Airlines.csv\")\n",
    "data.head()"
   ]
  },
  {
   "cell_type": "code",
   "execution_count": 312,
   "id": "aff1a162",
   "metadata": {},
   "outputs": [],
   "source": [
    "# data = pd.read_csv(\"Airlines.csv\", index_col='Month', parse_dates=True)              \n",
    "# #data.index.freq = 'MS'\n",
    "# data.head()"
   ]
  },
  {
   "cell_type": "markdown",
   "id": "fbce13df",
   "metadata": {},
   "source": [
    "### 2.1 getting data ready"
   ]
  },
  {
   "cell_type": "code",
   "execution_count": 313,
   "id": "90b6772d",
   "metadata": {},
   "outputs": [
    {
     "name": "stdout",
     "output_type": "stream",
     "text": [
      "<class 'pandas.core.frame.DataFrame'>\n",
      "RangeIndex: 96 entries, 0 to 95\n",
      "Data columns (total 2 columns):\n",
      " #   Column      Non-Null Count  Dtype \n",
      "---  ------      --------------  ----- \n",
      " 0   Month       96 non-null     object\n",
      " 1   Passengers  96 non-null     int64 \n",
      "dtypes: int64(1), object(1)\n",
      "memory usage: 1.6+ KB\n"
     ]
    }
   ],
   "source": [
    "data.info()"
   ]
  },
  {
   "cell_type": "code",
   "execution_count": 314,
   "id": "43ae7252",
   "metadata": {},
   "outputs": [],
   "source": [
    "#data['Month'].unique()"
   ]
  },
  {
   "cell_type": "code",
   "execution_count": 315,
   "id": "ecba2903",
   "metadata": {},
   "outputs": [
    {
     "data": {
      "text/html": [
       "<div>\n",
       "<style scoped>\n",
       "    .dataframe tbody tr th:only-of-type {\n",
       "        vertical-align: middle;\n",
       "    }\n",
       "\n",
       "    .dataframe tbody tr th {\n",
       "        vertical-align: top;\n",
       "    }\n",
       "\n",
       "    .dataframe thead th {\n",
       "        text-align: right;\n",
       "    }\n",
       "</style>\n",
       "<table border=\"1\" class=\"dataframe\">\n",
       "  <thead>\n",
       "    <tr style=\"text-align: right;\">\n",
       "      <th></th>\n",
       "      <th>Month</th>\n",
       "      <th>Passengers</th>\n",
       "    </tr>\n",
       "  </thead>\n",
       "  <tbody>\n",
       "    <tr>\n",
       "      <th>0</th>\n",
       "      <td>Jan-95</td>\n",
       "      <td>112</td>\n",
       "    </tr>\n",
       "    <tr>\n",
       "      <th>1</th>\n",
       "      <td>Feb-95</td>\n",
       "      <td>118</td>\n",
       "    </tr>\n",
       "    <tr>\n",
       "      <th>2</th>\n",
       "      <td>Mar-95</td>\n",
       "      <td>132</td>\n",
       "    </tr>\n",
       "    <tr>\n",
       "      <th>3</th>\n",
       "      <td>Apr-95</td>\n",
       "      <td>129</td>\n",
       "    </tr>\n",
       "    <tr>\n",
       "      <th>4</th>\n",
       "      <td>May-95</td>\n",
       "      <td>121</td>\n",
       "    </tr>\n",
       "  </tbody>\n",
       "</table>\n",
       "</div>"
      ],
      "text/plain": [
       "    Month  Passengers\n",
       "0  Jan-95         112\n",
       "1  Feb-95         118\n",
       "2  Mar-95         132\n",
       "3  Apr-95         129\n",
       "4  May-95         121"
      ]
     },
     "execution_count": 315,
     "metadata": {},
     "output_type": "execute_result"
    }
   ],
   "source": [
    "data.head()"
   ]
  },
  {
   "cell_type": "code",
   "execution_count": 316,
   "id": "241a9ce8",
   "metadata": {},
   "outputs": [
    {
     "data": {
      "text/html": [
       "<div>\n",
       "<style scoped>\n",
       "    .dataframe tbody tr th:only-of-type {\n",
       "        vertical-align: middle;\n",
       "    }\n",
       "\n",
       "    .dataframe tbody tr th {\n",
       "        vertical-align: top;\n",
       "    }\n",
       "\n",
       "    .dataframe thead th {\n",
       "        text-align: right;\n",
       "    }\n",
       "</style>\n",
       "<table border=\"1\" class=\"dataframe\">\n",
       "  <thead>\n",
       "    <tr style=\"text-align: right;\">\n",
       "      <th></th>\n",
       "      <th>Month</th>\n",
       "      <th>Passengers</th>\n",
       "    </tr>\n",
       "  </thead>\n",
       "  <tbody>\n",
       "    <tr>\n",
       "      <th>91</th>\n",
       "      <td>Aug-02</td>\n",
       "      <td>405</td>\n",
       "    </tr>\n",
       "    <tr>\n",
       "      <th>92</th>\n",
       "      <td>Sep-02</td>\n",
       "      <td>355</td>\n",
       "    </tr>\n",
       "    <tr>\n",
       "      <th>93</th>\n",
       "      <td>Oct-02</td>\n",
       "      <td>306</td>\n",
       "    </tr>\n",
       "    <tr>\n",
       "      <th>94</th>\n",
       "      <td>Nov-02</td>\n",
       "      <td>271</td>\n",
       "    </tr>\n",
       "    <tr>\n",
       "      <th>95</th>\n",
       "      <td>Dec-02</td>\n",
       "      <td>306</td>\n",
       "    </tr>\n",
       "  </tbody>\n",
       "</table>\n",
       "</div>"
      ],
      "text/plain": [
       "     Month  Passengers\n",
       "91  Aug-02         405\n",
       "92  Sep-02         355\n",
       "93  Oct-02         306\n",
       "94  Nov-02         271\n",
       "95  Dec-02         306"
      ]
     },
     "execution_count": 316,
     "metadata": {},
     "output_type": "execute_result"
    }
   ],
   "source": [
    "data.tail()"
   ]
  },
  {
   "cell_type": "code",
   "execution_count": 317,
   "id": "3c59eaec",
   "metadata": {},
   "outputs": [],
   "source": [
    "#so we have 96 months data and there is no null value"
   ]
  },
  {
   "cell_type": "markdown",
   "id": "e8b77a41",
   "metadata": {},
   "source": [
    "### 2.2 ploting of data"
   ]
  },
  {
   "cell_type": "markdown",
   "id": "3e40e292",
   "metadata": {},
   "source": [
    "### 2.2.1 working on trend of data"
   ]
  },
  {
   "cell_type": "code",
   "execution_count": 318,
   "id": "1e5eaeee",
   "metadata": {},
   "outputs": [
    {
     "data": {
      "text/plain": [
       "<AxesSubplot:ylabel='Density'>"
      ]
     },
     "execution_count": 318,
     "metadata": {},
     "output_type": "execute_result"
    },
    {
     "data": {
      "text/plain": [
       "<Figure size 864x576 with 0 Axes>"
      ]
     },
     "metadata": {},
     "output_type": "display_data"
    },
    {
     "data": {
      "image/png": "[encoded data removed]",
      "text/plain": [
       "<Figure size 432x288 with 1 Axes>"
      ]
     },
     "metadata": {
      "needs_background": "light"
     },
     "output_type": "display_data"
    },
    {
     "data": {
      "image/png": "[encoded data removed]",
      "text/plain": [
       "<Figure size 432x288 with 1 Axes>"
      ]
     },
     "metadata": {
      "needs_background": "light"
     },
     "output_type": "display_data"
    },
    {
     "data": {
      "image/png": "[encoded data removed]",
      "text/plain": [
       "<Figure size 432x288 with 1 Axes>"
      ]
     },
     "metadata": {
      "needs_background": "light"
     },
     "output_type": "display_data"
    }
   ],
   "source": [
    "#figsize = plt.figaspect(0.618) \n",
    "plt.figure(figsize=(12,8))\n",
    "data.plot()\n",
    "data.hist()\n",
    "data.plot(kind='kde')"
   ]
  },
  {
   "cell_type": "code",
   "execution_count": 319,
   "id": "86c87019",
   "metadata": {},
   "outputs": [],
   "source": [
    "# there is a trend \n",
    "# there is seasonality "
   ]
  },
  {
   "cell_type": "code",
   "execution_count": 320,
   "id": "9e18fc07",
   "metadata": {},
   "outputs": [],
   "source": [
    "#note : trend of data is not linear, lets make it linear by taking square root"
   ]
  },
  {
   "cell_type": "markdown",
   "id": "5a07db53",
   "metadata": {},
   "source": [
    "#### a) square root transform"
   ]
  },
  {
   "cell_type": "code",
   "execution_count": 321,
   "id": "216e4b69",
   "metadata": {},
   "outputs": [
    {
     "data": {
      "text/html": [
       "<div>\n",
       "<style scoped>\n",
       "    .dataframe tbody tr th:only-of-type {\n",
       "        vertical-align: middle;\n",
       "    }\n",
       "\n",
       "    .dataframe tbody tr th {\n",
       "        vertical-align: top;\n",
       "    }\n",
       "\n",
       "    .dataframe thead th {\n",
       "        text-align: right;\n",
       "    }\n",
       "</style>\n",
       "<table border=\"1\" class=\"dataframe\">\n",
       "  <thead>\n",
       "    <tr style=\"text-align: right;\">\n",
       "      <th></th>\n",
       "      <th>Month</th>\n",
       "      <th>Passengers</th>\n",
       "    </tr>\n",
       "  </thead>\n",
       "  <tbody>\n",
       "    <tr>\n",
       "      <th>0</th>\n",
       "      <td>Jan-95</td>\n",
       "      <td>10.583005</td>\n",
       "    </tr>\n",
       "    <tr>\n",
       "      <th>1</th>\n",
       "      <td>Feb-95</td>\n",
       "      <td>10.862780</td>\n",
       "    </tr>\n",
       "    <tr>\n",
       "      <th>2</th>\n",
       "      <td>Mar-95</td>\n",
       "      <td>11.489125</td>\n",
       "    </tr>\n",
       "    <tr>\n",
       "      <th>3</th>\n",
       "      <td>Apr-95</td>\n",
       "      <td>11.357817</td>\n",
       "    </tr>\n",
       "    <tr>\n",
       "      <th>4</th>\n",
       "      <td>May-95</td>\n",
       "      <td>11.000000</td>\n",
       "    </tr>\n",
       "  </tbody>\n",
       "</table>\n",
       "</div>"
      ],
      "text/plain": [
       "    Month  Passengers\n",
       "0  Jan-95   10.583005\n",
       "1  Feb-95   10.862780\n",
       "2  Mar-95   11.489125\n",
       "3  Apr-95   11.357817\n",
       "4  May-95   11.000000"
      ]
     },
     "execution_count": 321,
     "metadata": {},
     "output_type": "execute_result"
    }
   ],
   "source": [
    "data['Passengers'] = sqrt(data['Passengers'])\n",
    "data.head()"
   ]
  },
  {
   "cell_type": "code",
   "execution_count": 322,
   "id": "14c886bc",
   "metadata": {},
   "outputs": [
    {
     "data": {
      "text/plain": [
       "<AxesSubplot:ylabel='Density'>"
      ]
     },
     "execution_count": 322,
     "metadata": {},
     "output_type": "execute_result"
    },
    {
     "data": {
      "text/plain": [
       "<Figure size 864x576 with 0 Axes>"
      ]
     },
     "metadata": {},
     "output_type": "display_data"
    },
    {
     "data": {
      "image/png": "[encoded data removed]",
      "text/plain": [
       "<Figure size 432x288 with 1 Axes>"
      ]
     },
     "metadata": {
      "needs_background": "light"
     },
     "output_type": "display_data"
    },
    {
     "data": {
      "image/png": "[encoded data removed]",
      "text/plain": [
       "<Figure size 432x288 with 1 Axes>"
      ]
     },
     "metadata": {
      "needs_background": "light"
     },
     "output_type": "display_data"
    },
    {
     "data": {
      "image/png": "[encoded data removed]",
      "text/plain": [
       "<Figure size 432x288 with 1 Axes>"
      ]
     },
     "metadata": {
      "needs_background": "light"
     },
     "output_type": "display_data"
    }
   ],
   "source": [
    "#figsize = plt.figaspect(0.618) \n",
    "plt.figure(figsize=(12,8))\n",
    "data.plot()\n",
    "data.hist()\n",
    "data.plot(kind='kde')"
   ]
  },
  {
   "cell_type": "code",
   "execution_count": 323,
   "id": "e70b67d7",
   "metadata": {},
   "outputs": [],
   "source": [
    "#note : now trend look like to be linear"
   ]
  },
  {
   "cell_type": "markdown",
   "id": "23b646ea",
   "metadata": {},
   "source": [
    "### 2.2.2 working on seasonality of data"
   ]
  },
  {
   "cell_type": "code",
   "execution_count": 324,
   "id": "f0fc669e",
   "metadata": {},
   "outputs": [
    {
     "data": {
      "image/png": "[encoded data removed]",
      "text/plain": [
       "<Figure size 432x288 with 4 Axes>"
      ]
     },
     "metadata": {
      "needs_background": "light"
     },
     "output_type": "display_data"
    }
   ],
   "source": [
    "figsize = plt.figaspect(0.618) \n",
    "decompose_ts_add = seasonal_decompose(data.Passengers,period=12)\n",
    "decompose_ts_add.plot()\n",
    "plt.show()"
   ]
  },
  {
   "cell_type": "code",
   "execution_count": 325,
   "id": "5e1cdae6",
   "metadata": {},
   "outputs": [],
   "source": [
    "#i can clearly see seasonality in data"
   ]
  },
  {
   "cell_type": "markdown",
   "id": "633964ec",
   "metadata": {},
   "source": [
    "### 2.2.3 lag plot"
   ]
  },
  {
   "cell_type": "code",
   "execution_count": 326,
   "id": "57eb2e24",
   "metadata": {},
   "outputs": [
    {
     "data": {
      "image/png": "[encoded data removed]",
      "text/plain": [
       "<Figure size 432x288 with 1 Axes>"
      ]
     },
     "metadata": {
      "needs_background": "light"
     },
     "output_type": "display_data"
    }
   ],
   "source": [
    "lag_plot(data['Passengers'])\n",
    "plt.show()"
   ]
  },
  {
   "cell_type": "markdown",
   "id": "e64b697a",
   "metadata": {},
   "source": [
    "### 2.2.4 AcF and PACF"
   ]
  },
  {
   "cell_type": "code",
   "execution_count": 327,
   "id": "ff965a9d",
   "metadata": {},
   "outputs": [
    {
     "data": {
      "image/png": "[encoded data removed]",
      "text/plain": [
       "<Figure size 432x288 with 1 Axes>"
      ]
     },
     "metadata": {
      "needs_background": "light"
     },
     "output_type": "display_data"
    },
    {
     "data": {
      "image/png": "[encoded data removed]",
      "text/plain": [
       "<Figure size 432x288 with 1 Axes>"
      ]
     },
     "metadata": {
      "needs_background": "light"
     },
     "output_type": "display_data"
    }
   ],
   "source": [
    "import statsmodels.graphics.tsaplots as tsa_plots\n",
    "tsa_plots.plot_acf(data.Passengers,lags=12)\n",
    "tsa_plots.plot_pacf(data.Passengers,lags=12)\n",
    "plt.show()"
   ]
  },
  {
   "cell_type": "markdown",
   "id": "dc5f337d",
   "metadata": {},
   "source": [
    "### 2.3 splitting the data"
   ]
  },
  {
   "cell_type": "code",
   "execution_count": 328,
   "id": "ca6b1a80",
   "metadata": {},
   "outputs": [],
   "source": [
    "train_data = data.iloc[:76]\n",
    "test_data = data.iloc[76:]"
   ]
  },
  {
   "cell_type": "code",
   "execution_count": 329,
   "id": "255da0d0",
   "metadata": {},
   "outputs": [
    {
     "data": {
      "image/png": "[encoded data removed]",
      "text/plain": [
       "<Figure size 432x288 with 1 Axes>"
      ]
     },
     "metadata": {
      "needs_background": "light"
     },
     "output_type": "display_data"
    }
   ],
   "source": [
    "#figsize = plt.figaspect(0.618) \n",
    "#plt.figure(figsize=(12,8))\n",
    "train_data['Passengers'].plot(legend=True, label='train'),\n",
    "test_data['Passengers'].plot(legend=True, label='test');\n",
    "#plt.plot()"
   ]
  },
  {
   "cell_type": "code",
   "execution_count": 330,
   "id": "91d7c005",
   "metadata": {},
   "outputs": [],
   "source": [
    "# 1) we have done square root tranformation\n",
    "# 2) there is trend in data\n",
    "# 3) there is seasonality in data\n",
    "\n",
    "# we go with smoothing technique (Holt-Winter method)"
   ]
  },
  {
   "cell_type": "markdown",
   "id": "d1720746",
   "metadata": {},
   "source": [
    "### 3. building model"
   ]
  },
  {
   "cell_type": "markdown",
   "id": "0d746a0c",
   "metadata": {},
   "source": [
    "#### a) fit the model"
   ]
  },
  {
   "cell_type": "code",
   "execution_count": 331,
   "id": "c61a9371",
   "metadata": {},
   "outputs": [],
   "source": [
    "model = ExponentialSmoothing(train_data[\"Passengers\"], trend=\"add\", seasonal=\"mul\", seasonal_periods=12) #add the trend to the model\n",
    "model_fit = model.fit()"
   ]
  },
  {
   "cell_type": "code",
   "execution_count": 332,
   "id": "a66fd8a9",
   "metadata": {},
   "outputs": [
    {
     "data": {
      "text/plain": [
       "{'smoothing_level': 0.5677569334420174,\n",
       " 'smoothing_trend': 7.996876709701049e-14,\n",
       " 'smoothing_seasonal': 0.0,\n",
       " 'damping_trend': nan,\n",
       " 'initial_level': 12.63040053231402,\n",
       " 'initial_trend': 0.07837866348663272,\n",
       " 'initial_seasons': array([0.83689984, 0.83469452, 0.89468142, 0.87629444, 0.86789811,\n",
       "        0.9119013 , 0.95433024, 0.95358919, 0.89686677, 0.83875859,\n",
       "        0.78264443, 0.83161248]),\n",
       " 'use_boxcox': False,\n",
       " 'lamda': None,\n",
       " 'remove_bias': False}"
      ]
     },
     "execution_count": 332,
     "metadata": {},
     "output_type": "execute_result"
    }
   ],
   "source": [
    "par = model.params\n",
    "par"
   ]
  },
  {
   "cell_type": "markdown",
   "id": "c994b408",
   "metadata": {},
   "source": [
    "#### b) forecasting the test data"
   ]
  },
  {
   "cell_type": "code",
   "execution_count": 333,
   "id": "b8963487",
   "metadata": {},
   "outputs": [
    {
     "data": {
      "text/plain": [
       "76    16.205992\n",
       "77    17.099124\n",
       "78    17.969511\n",
       "79    18.030298\n",
       "80    17.028096\n",
       "81    15.990583\n",
       "82    14.982132\n",
       "83    15.984707\n",
       "84    16.151932\n",
       "85    16.174792\n",
       "86    17.407348\n",
       "87    17.118285\n",
       "88    17.022288\n",
       "89    17.956807\n",
       "90    18.867100\n",
       "91    18.927191\n",
       "92    17.871638\n",
       "93    16.779472\n",
       "94    15.718244\n",
       "95    16.766875\n",
       "dtype: float64"
      ]
     },
     "execution_count": 333,
     "metadata": {},
     "output_type": "execute_result"
    }
   ],
   "source": [
    "test_pred  = model_fit.forecast(20)\n",
    "test_pred"
   ]
  },
  {
   "cell_type": "code",
   "execution_count": 334,
   "id": "ba0157d5",
   "metadata": {},
   "outputs": [],
   "source": [
    "#note : we can also use prediction for test data *****************************\n",
    "\n",
    "# test_pred  = model.predict(par, start = test_data['Passengers'].index[0], end = test_data['Passengers'].index[-1])\n",
    "# test_pred"
   ]
  },
  {
   "cell_type": "code",
   "execution_count": 335,
   "id": "28c44017",
   "metadata": {},
   "outputs": [
    {
     "data": {
      "text/html": [
       "<div>\n",
       "<style scoped>\n",
       "    .dataframe tbody tr th:only-of-type {\n",
       "        vertical-align: middle;\n",
       "    }\n",
       "\n",
       "    .dataframe tbody tr th {\n",
       "        vertical-align: top;\n",
       "    }\n",
       "\n",
       "    .dataframe thead th {\n",
       "        text-align: right;\n",
       "    }\n",
       "</style>\n",
       "<table border=\"1\" class=\"dataframe\">\n",
       "  <thead>\n",
       "    <tr style=\"text-align: right;\">\n",
       "      <th></th>\n",
       "      <th>month</th>\n",
       "      <th>Passengers</th>\n",
       "      <th>test_pred_passengers</th>\n",
       "    </tr>\n",
       "  </thead>\n",
       "  <tbody>\n",
       "    <tr>\n",
       "      <th>76</th>\n",
       "      <td>May-01</td>\n",
       "      <td>16.431677</td>\n",
       "      <td>16.205992</td>\n",
       "    </tr>\n",
       "    <tr>\n",
       "      <th>77</th>\n",
       "      <td>Jun-01</td>\n",
       "      <td>17.748239</td>\n",
       "      <td>17.099124</td>\n",
       "    </tr>\n",
       "    <tr>\n",
       "      <th>78</th>\n",
       "      <td>Jul-01</td>\n",
       "      <td>19.078784</td>\n",
       "      <td>17.969511</td>\n",
       "    </tr>\n",
       "    <tr>\n",
       "      <th>79</th>\n",
       "      <td>Aug-01</td>\n",
       "      <td>18.627936</td>\n",
       "      <td>18.030298</td>\n",
       "    </tr>\n",
       "    <tr>\n",
       "      <th>80</th>\n",
       "      <td>Sep-01</td>\n",
       "      <td>17.663522</td>\n",
       "      <td>17.028096</td>\n",
       "    </tr>\n",
       "    <tr>\n",
       "      <th>81</th>\n",
       "      <td>Oct-01</td>\n",
       "      <td>16.552945</td>\n",
       "      <td>15.990583</td>\n",
       "    </tr>\n",
       "    <tr>\n",
       "      <th>82</th>\n",
       "      <td>Nov-01</td>\n",
       "      <td>15.394804</td>\n",
       "      <td>14.982132</td>\n",
       "    </tr>\n",
       "    <tr>\n",
       "      <th>83</th>\n",
       "      <td>Dec-01</td>\n",
       "      <td>16.673332</td>\n",
       "      <td>15.984707</td>\n",
       "    </tr>\n",
       "    <tr>\n",
       "      <th>84</th>\n",
       "      <td>Jan-02</td>\n",
       "      <td>16.852300</td>\n",
       "      <td>16.151932</td>\n",
       "    </tr>\n",
       "    <tr>\n",
       "      <th>85</th>\n",
       "      <td>Feb-02</td>\n",
       "      <td>16.643317</td>\n",
       "      <td>16.174792</td>\n",
       "    </tr>\n",
       "    <tr>\n",
       "      <th>86</th>\n",
       "      <td>Mar-02</td>\n",
       "      <td>17.804494</td>\n",
       "      <td>17.407348</td>\n",
       "    </tr>\n",
       "    <tr>\n",
       "      <th>87</th>\n",
       "      <td>Apr-02</td>\n",
       "      <td>17.691806</td>\n",
       "      <td>17.118285</td>\n",
       "    </tr>\n",
       "    <tr>\n",
       "      <th>88</th>\n",
       "      <td>May-02</td>\n",
       "      <td>17.832555</td>\n",
       "      <td>17.022288</td>\n",
       "    </tr>\n",
       "    <tr>\n",
       "      <th>89</th>\n",
       "      <td>Jun-02</td>\n",
       "      <td>19.339080</td>\n",
       "      <td>17.956807</td>\n",
       "    </tr>\n",
       "    <tr>\n",
       "      <th>90</th>\n",
       "      <td>Jul-02</td>\n",
       "      <td>20.322401</td>\n",
       "      <td>18.867100</td>\n",
       "    </tr>\n",
       "    <tr>\n",
       "      <th>91</th>\n",
       "      <td>Aug-02</td>\n",
       "      <td>20.124612</td>\n",
       "      <td>18.927191</td>\n",
       "    </tr>\n",
       "    <tr>\n",
       "      <th>92</th>\n",
       "      <td>Sep-02</td>\n",
       "      <td>18.841444</td>\n",
       "      <td>17.871638</td>\n",
       "    </tr>\n",
       "    <tr>\n",
       "      <th>93</th>\n",
       "      <td>Oct-02</td>\n",
       "      <td>17.492856</td>\n",
       "      <td>16.779472</td>\n",
       "    </tr>\n",
       "    <tr>\n",
       "      <th>94</th>\n",
       "      <td>Nov-02</td>\n",
       "      <td>16.462078</td>\n",
       "      <td>15.718244</td>\n",
       "    </tr>\n",
       "    <tr>\n",
       "      <th>95</th>\n",
       "      <td>Dec-02</td>\n",
       "      <td>17.492856</td>\n",
       "      <td>16.766875</td>\n",
       "    </tr>\n",
       "  </tbody>\n",
       "</table>\n",
       "</div>"
      ],
      "text/plain": [
       "     month  Passengers  test_pred_passengers\n",
       "76  May-01   16.431677             16.205992\n",
       "77  Jun-01   17.748239             17.099124\n",
       "78  Jul-01   19.078784             17.969511\n",
       "79  Aug-01   18.627936             18.030298\n",
       "80  Sep-01   17.663522             17.028096\n",
       "81  Oct-01   16.552945             15.990583\n",
       "82  Nov-01   15.394804             14.982132\n",
       "83  Dec-01   16.673332             15.984707\n",
       "84  Jan-02   16.852300             16.151932\n",
       "85  Feb-02   16.643317             16.174792\n",
       "86  Mar-02   17.804494             17.407348\n",
       "87  Apr-02   17.691806             17.118285\n",
       "88  May-02   17.832555             17.022288\n",
       "89  Jun-02   19.339080             17.956807\n",
       "90  Jul-02   20.322401             18.867100\n",
       "91  Aug-02   20.124612             18.927191\n",
       "92  Sep-02   18.841444             17.871638\n",
       "93  Oct-02   17.492856             16.779472\n",
       "94  Nov-02   16.462078             15.718244\n",
       "95  Dec-02   17.492856             16.766875"
      ]
     },
     "execution_count": 335,
     "metadata": {},
     "output_type": "execute_result"
    }
   ],
   "source": [
    "test_prediction = pd.DataFrame()\n",
    "test_prediction['month'] = test_data.Month\n",
    "test_prediction['Passengers'] = test_data.Passengers\n",
    "test_prediction['test_pred_passengers'] = test_pred\n",
    "test_prediction"
   ]
  },
  {
   "cell_type": "markdown",
   "id": "220e9700",
   "metadata": {},
   "source": [
    "#### d) visualising the original test  data and predicted test data"
   ]
  },
  {
   "cell_type": "code",
   "execution_count": 336,
   "id": "d5532a53",
   "metadata": {},
   "outputs": [
    {
     "data": {
      "text/plain": [
       "[]"
      ]
     },
     "execution_count": 336,
     "metadata": {},
     "output_type": "execute_result"
    },
    {
     "data": {
      "image/png": "[encoded data removed]",
      "text/plain": [
       "<Figure size 432x288 with 1 Axes>"
      ]
     },
     "metadata": {
      "needs_background": "light"
     },
     "output_type": "display_data"
    }
   ],
   "source": [
    "figsize = plt.figaspect(0.618) \n",
    "#plt.figure(figsize=(12,8))\n",
    "train_data['Passengers'].plot(legend=True, label='train')\n",
    "test_data['Passengers'].plot(legend=True, label='test')\n",
    "test_prediction['test_pred_passengers'].plot(legend=True, label='prediction')\n",
    "plt.plot()"
   ]
  },
  {
   "cell_type": "code",
   "execution_count": 337,
   "id": "f63a9b22",
   "metadata": {},
   "outputs": [],
   "source": [
    "#so trend for original test data and predicted test data is  nearly same"
   ]
  },
  {
   "cell_type": "markdown",
   "id": "f0f8b1ca",
   "metadata": {},
   "source": [
    "#### e) transforming sqrt to original form of data for test prediction DataFrame "
   ]
  },
  {
   "cell_type": "code",
   "execution_count": 338,
   "id": "97da1474",
   "metadata": {},
   "outputs": [
    {
     "data": {
      "text/html": [
       "<div>\n",
       "<style scoped>\n",
       "    .dataframe tbody tr th:only-of-type {\n",
       "        vertical-align: middle;\n",
       "    }\n",
       "\n",
       "    .dataframe tbody tr th {\n",
       "        vertical-align: top;\n",
       "    }\n",
       "\n",
       "    .dataframe thead th {\n",
       "        text-align: right;\n",
       "    }\n",
       "</style>\n",
       "<table border=\"1\" class=\"dataframe\">\n",
       "  <thead>\n",
       "    <tr style=\"text-align: right;\">\n",
       "      <th></th>\n",
       "      <th>month</th>\n",
       "      <th>Passengers</th>\n",
       "      <th>test_pred_passengers</th>\n",
       "    </tr>\n",
       "  </thead>\n",
       "  <tbody>\n",
       "    <tr>\n",
       "      <th>76</th>\n",
       "      <td>May-01</td>\n",
       "      <td>270.0</td>\n",
       "      <td>262.634180</td>\n",
       "    </tr>\n",
       "    <tr>\n",
       "      <th>77</th>\n",
       "      <td>Jun-01</td>\n",
       "      <td>315.0</td>\n",
       "      <td>292.380032</td>\n",
       "    </tr>\n",
       "    <tr>\n",
       "      <th>78</th>\n",
       "      <td>Jul-01</td>\n",
       "      <td>364.0</td>\n",
       "      <td>322.903316</td>\n",
       "    </tr>\n",
       "    <tr>\n",
       "      <th>79</th>\n",
       "      <td>Aug-01</td>\n",
       "      <td>347.0</td>\n",
       "      <td>325.091655</td>\n",
       "    </tr>\n",
       "    <tr>\n",
       "      <th>80</th>\n",
       "      <td>Sep-01</td>\n",
       "      <td>312.0</td>\n",
       "      <td>289.956047</td>\n",
       "    </tr>\n",
       "  </tbody>\n",
       "</table>\n",
       "</div>"
      ],
      "text/plain": [
       "     month  Passengers  test_pred_passengers\n",
       "76  May-01       270.0            262.634180\n",
       "77  Jun-01       315.0            292.380032\n",
       "78  Jul-01       364.0            322.903316\n",
       "79  Aug-01       347.0            325.091655\n",
       "80  Sep-01       312.0            289.956047"
      ]
     },
     "execution_count": 338,
     "metadata": {},
     "output_type": "execute_result"
    }
   ],
   "source": [
    "test_prediction['Passengers'] = np.square(test_prediction['Passengers'])\n",
    "test_prediction['test_pred_passengers'] = np.square(test_prediction['test_pred_passengers'])\n",
    "test_prediction.head()"
   ]
  },
  {
   "cell_type": "markdown",
   "id": "7e21db1e",
   "metadata": {},
   "source": [
    "#### e) evaluation of metrics"
   ]
  },
  {
   "cell_type": "code",
   "execution_count": 339,
   "id": "655c4da5",
   "metadata": {},
   "outputs": [
    {
     "data": {
      "text/plain": [
       "876.7582765104105"
      ]
     },
     "execution_count": 339,
     "metadata": {},
     "output_type": "execute_result"
    }
   ],
   "source": [
    "from sklearn.metrics import mean_squared_error\n",
    "mean_squared_error(test_prediction['Passengers'],test_prediction['test_pred_passengers'])         #MSE"
   ]
  },
  {
   "cell_type": "code",
   "execution_count": 340,
   "id": "46d861f0",
   "metadata": {},
   "outputs": [
    {
     "data": {
      "text/plain": [
       "29.61010429752672"
      ]
     },
     "execution_count": 340,
     "metadata": {},
     "output_type": "execute_result"
    }
   ],
   "source": [
    "np.sqrt(mean_squared_error(test_prediction['Passengers'],test_prediction['test_pred_passengers'])) #RMSE"
   ]
  },
  {
   "cell_type": "markdown",
   "id": "cd7269e4",
   "metadata": {},
   "source": [
    "### 4. final model (forecasting into future)"
   ]
  },
  {
   "cell_type": "markdown",
   "id": "5badbc97",
   "metadata": {},
   "source": [
    "#### a) fit the model"
   ]
  },
  {
   "cell_type": "code",
   "execution_count": 341,
   "id": "47d451f5",
   "metadata": {},
   "outputs": [],
   "source": [
    "model = ExponentialSmoothing(data[\"Passengers\"], trend=\"add\", seasonal=\"mul\", seasonal_periods=12) #add the trend to the model\n",
    "model_fit = model.fit()"
   ]
  },
  {
   "cell_type": "markdown",
   "id": "3a6c9d8d",
   "metadata": {},
   "source": [
    "#### b) forecasting "
   ]
  },
  {
   "cell_type": "code",
   "execution_count": 342,
   "id": "84826c8a",
   "metadata": {},
   "outputs": [
    {
     "data": {
      "text/plain": [
       "96     17.699119\n",
       "97     17.666925\n",
       "98     18.980850\n",
       "99     18.691696\n",
       "100    18.666105\n",
       "101    19.862274\n",
       "102    20.940588\n",
       "103    20.845902\n",
       "104    19.654537\n",
       "105    18.398153\n",
       "106    17.219781\n",
       "107    18.392417\n",
       "108    18.577730\n",
       "109    18.540324\n",
       "110    19.915356\n",
       "111    19.608206\n",
       "112    19.577635\n",
       "113    20.828286\n",
       "114    21.954933\n",
       "115    21.851601\n",
       "dtype: float64"
      ]
     },
     "execution_count": 342,
     "metadata": {},
     "output_type": "execute_result"
    }
   ],
   "source": [
    "fore  = model_fit.forecast(20)\n",
    "fore"
   ]
  },
  {
   "cell_type": "markdown",
   "id": "6780c075",
   "metadata": {},
   "source": [
    "#### c) visualisation of data"
   ]
  },
  {
   "cell_type": "code",
   "execution_count": 343,
   "id": "de847128",
   "metadata": {},
   "outputs": [
    {
     "data": {
      "text/plain": [
       "<AxesSubplot:>"
      ]
     },
     "execution_count": 343,
     "metadata": {},
     "output_type": "execute_result"
    },
    {
     "data": {
      "image/png": "[encoded data removed]",
      "text/plain": [
       "<Figure size 432x288 with 1 Axes>"
      ]
     },
     "metadata": {
      "needs_background": "light"
     },
     "output_type": "display_data"
    }
   ],
   "source": [
    "data.plot()\n",
    "fore.plot()"
   ]
  },
  {
   "cell_type": "markdown",
   "id": "f89e1094",
   "metadata": {},
   "source": [
    "#### d) transforming data from sqrt to original form"
   ]
  },
  {
   "cell_type": "code",
   "execution_count": 344,
   "id": "54171cb9",
   "metadata": {},
   "outputs": [],
   "source": [
    "data['Passengers'] = np.square(data['Passengers']) \n",
    "fore = np.square(fore)"
   ]
  },
  {
   "cell_type": "code",
   "execution_count": 345,
   "id": "b2da7bda",
   "metadata": {},
   "outputs": [
    {
     "data": {
      "text/html": [
       "<div>\n",
       "<style scoped>\n",
       "    .dataframe tbody tr th:only-of-type {\n",
       "        vertical-align: middle;\n",
       "    }\n",
       "\n",
       "    .dataframe tbody tr th {\n",
       "        vertical-align: top;\n",
       "    }\n",
       "\n",
       "    .dataframe thead th {\n",
       "        text-align: right;\n",
       "    }\n",
       "</style>\n",
       "<table border=\"1\" class=\"dataframe\">\n",
       "  <thead>\n",
       "    <tr style=\"text-align: right;\">\n",
       "      <th></th>\n",
       "      <th>Month</th>\n",
       "      <th>Passengers</th>\n",
       "    </tr>\n",
       "  </thead>\n",
       "  <tbody>\n",
       "    <tr>\n",
       "      <th>0</th>\n",
       "      <td>Jan-95</td>\n",
       "      <td>112.0</td>\n",
       "    </tr>\n",
       "    <tr>\n",
       "      <th>1</th>\n",
       "      <td>Feb-95</td>\n",
       "      <td>118.0</td>\n",
       "    </tr>\n",
       "    <tr>\n",
       "      <th>2</th>\n",
       "      <td>Mar-95</td>\n",
       "      <td>132.0</td>\n",
       "    </tr>\n",
       "    <tr>\n",
       "      <th>3</th>\n",
       "      <td>Apr-95</td>\n",
       "      <td>129.0</td>\n",
       "    </tr>\n",
       "    <tr>\n",
       "      <th>4</th>\n",
       "      <td>May-95</td>\n",
       "      <td>121.0</td>\n",
       "    </tr>\n",
       "  </tbody>\n",
       "</table>\n",
       "</div>"
      ],
      "text/plain": [
       "    Month  Passengers\n",
       "0  Jan-95       112.0\n",
       "1  Feb-95       118.0\n",
       "2  Mar-95       132.0\n",
       "3  Apr-95       129.0\n",
       "4  May-95       121.0"
      ]
     },
     "execution_count": 345,
     "metadata": {},
     "output_type": "execute_result"
    }
   ],
   "source": [
    "data.head()"
   ]
  },
  {
   "cell_type": "code",
   "execution_count": 346,
   "id": "91c07451",
   "metadata": {},
   "outputs": [
    {
     "data": {
      "text/plain": [
       "96     313.258813\n",
       "97     312.120224\n",
       "98     360.272667\n",
       "99     349.379501\n",
       "100    348.423482\n",
       "101    394.509936\n",
       "102    438.508212\n",
       "103    434.551621\n",
       "104    386.300841\n",
       "105    338.492048\n",
       "106    296.520844\n",
       "107    338.280997\n",
       "108    345.132046\n",
       "109    343.743621\n",
       "110    396.621412\n",
       "111    384.481730\n",
       "112    383.283808\n",
       "113    433.817512\n",
       "114    482.019087\n",
       "115    477.492470\n",
       "dtype: float64"
      ]
     },
     "execution_count": 346,
     "metadata": {},
     "output_type": "execute_result"
    }
   ],
   "source": [
    "fore"
   ]
  },
  {
   "cell_type": "code",
   "execution_count": 347,
   "id": "70ca2985",
   "metadata": {},
   "outputs": [
    {
     "data": {
      "text/plain": [
       "<AxesSubplot:>"
      ]
     },
     "execution_count": 347,
     "metadata": {},
     "output_type": "execute_result"
    },
    {
     "data": {
      "image/png": "[encoded data removed]",
      "text/plain": [
       "<Figure size 432x288 with 1 Axes>"
      ]
     },
     "metadata": {
      "needs_background": "light"
     },
     "output_type": "display_data"
    }
   ],
   "source": [
    "data.plot()\n",
    "fore.plot()"
   ]
  },
  {
   "cell_type": "code",
   "execution_count": null,
   "id": "2ec1736d",
   "metadata": {},
   "outputs": [],
   "source": []
  }
 ],
 "metadata": {
  "kernelspec": {
   "display_name": "Python 3 (ipykernel)",
   "language": "python",
   "name": "python3"
  },
  "language_info": {
   "codemirror_mode": {
    "name": "ipython",
    "version": 3
   },
   "file_extension": ".py",
   "mimetype": "text/x-python",
   "name": "python",
   "nbconvert_exporter": "python",
   "pygments_lexer": "ipython3",
   "version": "3.9.7"
  }
 },
 "nbformat": 4,
 "nbformat_minor": 5
}
